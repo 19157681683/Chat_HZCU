{
 "cells": [
  {
   "cell_type": "code",
   "execution_count": null,
   "metadata": {},
   "outputs": [],
   "source": [
    "import torch\n",
    "from transformers import AutoTokenizer, AutoModelForCausalLM\n",
    "model_path = \"share/model_repos/internlm-chat-20b\"\n",
    "tokenizer = AutoTokenizer.from_pretrained(model_path, trust_remote_code=True)\n",
    "model = AutoModelForCausalLM.from_pretrained(model_path, device_map=\"cuda\",trust_remote_code=True,torch_dtype=torch.float16,load_in_4bit=True)\n",
    "model = model.eval()\n",
    "\n"
   ]
  },
  {
   "cell_type": "code",
   "execution_count": null,
   "metadata": {},
   "outputs": [],
   "source": [
    "from langchain.embeddings.huggingface import HuggingFaceEmbeddings\n",
    "from BCEmbedding import RerankerModel\n",
    "from langchain.document_loaders import PyPDFLoader\n",
    "from langchain.text_splitter import RecursiveCharacterTextSplitter\n",
    "from langchain.vectorstores import Chroma"
   ]
  },
  {
   "cell_type": "code",
   "execution_count": null,
   "metadata": {},
   "outputs": [],
   "source": [
    "embeddingModel = HuggingFaceEmbeddings(model_name=r\"root/model/bce-embedding-base-v1\")\n",
    "pdf_path = r\"root/files/浙大城市学院财务报销办事指南.pdf\"\n",
    "pdf_loader = PyPDFLoader(pdf_path)\n",
    "pdf_document = pdf_loader.load()\n",
    "print(len(pdf_document[0].page_content))\n",
    "print(len(pdf_document[1].page_content))"
   ]
  },
  {
   "cell_type": "code",
   "execution_count": null,
   "metadata": {},
   "outputs": [],
   "source": [
    "text_splitter = RecursiveCharacterTextSplitter(chunk_size=400, chunk_overlap=200)\n",
    "docs = text_splitter.split_documents(pdf_document)\n",
    "db = Chroma.from_documents(docs, embeddingModel)\n",
    "question = \"哪些票据报销时不予受理？\"\n",
    "docs = db.similarity_search(question,3)\n",
    "print(docs)\n",
    "print(docs[0].page_content)"
   ]
  },
  {
   "cell_type": "code",
   "execution_count": null,
   "metadata": {},
   "outputs": [],
   "source": [
    "\n",
    "prompt = f\"\"\"\n",
    "你是浙大城市学院的校园AI助手,\n",
    "请你根据下列上下文回答问题。不知道你就回答不知道。\n",
    "上下文：{docs[0].page_content}\n",
    "问题：{question}\n",
    "回答：\n",
    "\"\"\"\n",
    "response, history = model.chat(tokenizer, prompt, history=history)\n",
    "print(response)"
   ]
  }
 ],
 "metadata": {
  "language_info": {
   "name": "python"
  },
  "orig_nbformat": 4
 },
 "nbformat": 4,
 "nbformat_minor": 2
}
